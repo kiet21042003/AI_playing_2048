{
 "cells": [
  {
   "cell_type": "code",
   "execution_count": null,
   "id": "d692d491",
   "metadata": {},
   "outputs": [],
   "source": [
    "import game_display"
   ]
  },
  {
   "cell_type": "code",
   "execution_count": null,
   "id": "1bfc305b",
   "metadata": {},
   "outputs": [],
   "source": []
  },
  {
   "cell_type": "code",
   "execution_count": null,
   "id": "839be204",
   "metadata": {},
   "outputs": [],
   "source": []
  }
 ],
 "metadata": {
  "kernelspec": {
   "display_name": "Python 3 (ipykernel)",
   "language": "python",
   "name": "python3"
  },
  "language_info": {
   "codemirror_mode": {
    "name": "ipython",
    "version": 3
   },
   "file_extension": ".py",
   "mimetype": "text/x-python",
   "name": "python",
   "nbconvert_exporter": "python",
   "pygments_lexer": "ipython3",
   "version": "3.9.13"
  }
 },
 "nbformat": 4,
 "nbformat_minor": 5
}
